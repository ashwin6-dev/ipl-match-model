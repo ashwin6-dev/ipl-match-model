{
 "cells": [
  {
   "cell_type": "code",
   "execution_count": 1,
   "metadata": {},
   "outputs": [
    {
     "name": "stdout",
     "output_type": "stream",
     "text": [
      "Requirement already satisfied: scikit-learn in c:\\users\\ashwin\\appdata\\local\\packages\\pythonsoftwarefoundation.python.3.11_qbz5n2kfra8p0\\localcache\\local-packages\\python311\\site-packages (1.3.2)\n",
      "Requirement already satisfied: numpy<2.0,>=1.17.3 in c:\\users\\ashwin\\appdata\\local\\packages\\pythonsoftwarefoundation.python.3.11_qbz5n2kfra8p0\\localcache\\local-packages\\python311\\site-packages (from scikit-learn) (1.24.1)\n",
      "Requirement already satisfied: scipy>=1.5.0 in c:\\users\\ashwin\\appdata\\local\\packages\\pythonsoftwarefoundation.python.3.11_qbz5n2kfra8p0\\localcache\\local-packages\\python311\\site-packages (from scikit-learn) (1.11.3)\n",
      "Requirement already satisfied: joblib>=1.1.1 in c:\\users\\ashwin\\appdata\\local\\packages\\pythonsoftwarefoundation.python.3.11_qbz5n2kfra8p0\\localcache\\local-packages\\python311\\site-packages (from scikit-learn) (1.3.2)\n",
      "Requirement already satisfied: threadpoolctl>=2.0.0 in c:\\users\\ashwin\\appdata\\local\\packages\\pythonsoftwarefoundation.python.3.11_qbz5n2kfra8p0\\localcache\\local-packages\\python311\\site-packages (from scikit-learn) (3.2.0)\n"
     ]
    },
    {
     "name": "stderr",
     "output_type": "stream",
     "text": [
      "\n",
      "[notice] A new release of pip is available: 23.2.1 -> 23.3.2\n",
      "[notice] To update, run: C:\\Users\\Ashwin\\AppData\\Local\\Microsoft\\WindowsApps\\PythonSoftwareFoundation.Python.3.11_qbz5n2kfra8p0\\python.exe -m pip install --upgrade pip\n"
     ]
    }
   ],
   "source": [
    "!pip install scikit-learn"
   ]
  },
  {
   "cell_type": "code",
   "execution_count": 2,
   "metadata": {},
   "outputs": [],
   "source": [
    "import pandas as pd\n",
    "import numpy as np\n",
    "import matplotlib.pyplot as plt\n",
    "import seaborn as sns\n",
    "from sklearn.svm import SVR\n",
    "from sklearn.pipeline import make_pipeline\n",
    "from sklearn.preprocessing import StandardScaler\n",
    "from sklearn.neural_network import MLPRegressor\n",
    "from sklearn.neural_network import MLPClassifier\n",
    "from sklearn.naive_bayes import GaussianNB\n",
    "from sklearn.ensemble import AdaBoostClassifier\n",
    "from sklearn.ensemble import RandomForestClassifier\n",
    "from sklearn.model_selection import train_test_split"
   ]
  },
  {
   "cell_type": "code",
   "execution_count": 3,
   "metadata": {},
   "outputs": [],
   "source": [
    "class DatasetProcessor:\n",
    "    def __init__(self, name):\n",
    "        self.df = pd.read_csv(name).fillna(0)\n",
    "\n",
    "    def calculate_innings_stats(self):\n",
    "        self.df[\"innings_total\"] = self.df.groupby([\"match_id\", \"innings\"])[\"runs_off_bat\"].transform(lambda x : x.shift().fillna(0).cumsum()) + self.df.groupby([\"match_id\", \"innings\"])[\"extras\"].transform(lambda x : x.shift().fillna(0).cumsum())\n",
    "        self.df[\"wicket\"] = (self.df[\"wicket_type\"] != 0).astype(int)\n",
    "        self.df[\"innings_wickets\"] = self.df.groupby([\"match_id\", \"innings\"])[\"wicket\"].transform(lambda x : x.shift().fillna(0).cumsum())\n",
    "        \n",
    "        self.df[\"ball\"] = self.df[\"ball\"].astype(int) * 6 + (self.df[\"ball\"] - self.df[\"ball\"].astype(int)) * 10\n",
    "        self.df[\"over\"] = self.df[\"ball\"] // 6\n",
    "        self.df[\"outcome\"] = self.df.apply(lambda ball : 7 if ball[\"wicket\"] == 1 else ball[\"runs_off_bat\"], axis=1)\n",
    "\n",
    "    def calculate_striker_stats(self):\n",
    "        self.df[\"striker_runs\"] = self.df.groupby([\"match_id\", \"striker\"])[\"runs_off_bat\"].transform(lambda x : x.shift().fillna(0).cumsum())\n",
    "        self.df[\"striker_balls\"] = self.df.groupby([\"match_id\", \"striker\"])[\"runs_off_bat\"].transform(\"cumcount\")\n",
    "\n",
    "    def calculate_bowler_stats(self):\n",
    "        self.df[\"bowler_runs\"] = self.df.groupby([\"match_id\", \"bowler\"])[\"runs_off_bat\"].transform(lambda x : x.shift().fillna(0).cumsum())\n",
    "        self.df[\"bowler_balls\"] = self.df.groupby([\"match_id\", \"bowler\"])[\"runs_off_bat\"].transform(\"cumcount\")\n",
    "        self.df[\"bowler_wickets\"] = self.df.groupby([\"match_id\", \"bowler\"])[\"wicket\"].transform(lambda x : x.shift().fillna(0).cumsum())\n",
    "\n",
    "    def select_season(self, season):\n",
    "        self.df = self.df[self.df.season == season]\n",
    "\n",
    "    def process(self):\n",
    "        self.select_season(2023)\n",
    "        self.calculate_innings_stats()\n",
    "        self.calculate_striker_stats()\n",
    "        self.calculate_bowler_stats()\n",
    "        self.df = self.df[self.df.outcome != 5]\n",
    "\n",
    "        return self.df[[\"season\", \n",
    "                        \"venue\", \n",
    "                        \"innings\", \n",
    "                        \"innings_total\",\n",
    "                        \"innings_wickets\",\n",
    "                        \"ball\", \n",
    "                        \"over\",\n",
    "                        \"striker\",\n",
    "                        \"striker_runs\", \n",
    "                        \"striker_balls\",\n",
    "                        \"bowler\",\n",
    "                        \"bowler_runs\",\n",
    "                        \"bowler_balls\",\n",
    "                        \"bowler_wickets\", \n",
    "                        \"runs_off_bat\",\n",
    "                        \"outcome\"]]"
   ]
  },
  {
   "cell_type": "code",
   "execution_count": 4,
   "metadata": {},
   "outputs": [],
   "source": [
    "class ExpectedModel:\n",
    "    def __init__(self, dataset):\n",
    "        self.dataset = dataset\n",
    "\n",
    "    def train(self):\n",
    "        X = [\"innings_total\",\n",
    "             \"innings_wickets\",\n",
    "             \"over\", \n",
    "             \"striker_runs\", \n",
    "             \"striker_balls\",\n",
    "             \"bowler_runs\",\n",
    "             \"bowler_balls\",\n",
    "             \"bowler_wickets\"]\n",
    "        \n",
    "        Y = \"outcome\"\n",
    "\n",
    "        pipeline = make_pipeline(StandardScaler(),\n",
    "                                 MLPClassifier())\n",
    "        \n",
    "        dummies = self.dataset[Y]\n",
    "        X_train, X_test, y_train, y_test = train_test_split(self.dataset[X], dummies, test_size=0.3)\n",
    "        pipeline.fit(X_train, y_train)\n",
    "\n",
    "        return pipeline"
   ]
  },
  {
   "cell_type": "code",
   "execution_count": 5,
   "metadata": {},
   "outputs": [],
   "source": [
    "p = DatasetProcessor(\"IPL_ball_by_ball_updated.csv\")\n",
    "df = p.process()\n",
    "trainer = ExpectedModel(df)"
   ]
  },
  {
   "cell_type": "code",
   "execution_count": 6,
   "metadata": {},
   "outputs": [
    {
     "data": {
      "text/html": [
       "<div>\n",
       "<style scoped>\n",
       "    .dataframe tbody tr th:only-of-type {\n",
       "        vertical-align: middle;\n",
       "    }\n",
       "\n",
       "    .dataframe tbody tr th {\n",
       "        vertical-align: top;\n",
       "    }\n",
       "\n",
       "    .dataframe thead th {\n",
       "        text-align: right;\n",
       "    }\n",
       "</style>\n",
       "<table border=\"1\" class=\"dataframe\">\n",
       "  <thead>\n",
       "    <tr style=\"text-align: right;\">\n",
       "      <th></th>\n",
       "      <th>season</th>\n",
       "      <th>venue</th>\n",
       "      <th>innings</th>\n",
       "      <th>innings_total</th>\n",
       "      <th>innings_wickets</th>\n",
       "      <th>ball</th>\n",
       "      <th>over</th>\n",
       "      <th>striker</th>\n",
       "      <th>striker_runs</th>\n",
       "      <th>striker_balls</th>\n",
       "      <th>bowler</th>\n",
       "      <th>bowler_runs</th>\n",
       "      <th>bowler_balls</th>\n",
       "      <th>bowler_wickets</th>\n",
       "      <th>runs_off_bat</th>\n",
       "      <th>outcome</th>\n",
       "    </tr>\n",
       "  </thead>\n",
       "  <tbody>\n",
       "    <tr>\n",
       "      <th>225953</th>\n",
       "      <td>2023</td>\n",
       "      <td>Narendra Modi Stadium, Ahmedabad</td>\n",
       "      <td>1</td>\n",
       "      <td>0.0</td>\n",
       "      <td>0.0</td>\n",
       "      <td>1.0</td>\n",
       "      <td>0.0</td>\n",
       "      <td>DP Conway</td>\n",
       "      <td>0.0</td>\n",
       "      <td>0</td>\n",
       "      <td>Mohammed Shami</td>\n",
       "      <td>0.0</td>\n",
       "      <td>0</td>\n",
       "      <td>0.0</td>\n",
       "      <td>0</td>\n",
       "      <td>0</td>\n",
       "    </tr>\n",
       "    <tr>\n",
       "      <th>225954</th>\n",
       "      <td>2023</td>\n",
       "      <td>Narendra Modi Stadium, Ahmedabad</td>\n",
       "      <td>1</td>\n",
       "      <td>0.0</td>\n",
       "      <td>0.0</td>\n",
       "      <td>2.0</td>\n",
       "      <td>0.0</td>\n",
       "      <td>DP Conway</td>\n",
       "      <td>0.0</td>\n",
       "      <td>1</td>\n",
       "      <td>Mohammed Shami</td>\n",
       "      <td>0.0</td>\n",
       "      <td>1</td>\n",
       "      <td>0.0</td>\n",
       "      <td>0</td>\n",
       "      <td>0</td>\n",
       "    </tr>\n",
       "    <tr>\n",
       "      <th>225955</th>\n",
       "      <td>2023</td>\n",
       "      <td>Narendra Modi Stadium, Ahmedabad</td>\n",
       "      <td>1</td>\n",
       "      <td>1.0</td>\n",
       "      <td>0.0</td>\n",
       "      <td>3.0</td>\n",
       "      <td>0.0</td>\n",
       "      <td>RD Gaikwad</td>\n",
       "      <td>0.0</td>\n",
       "      <td>0</td>\n",
       "      <td>Mohammed Shami</td>\n",
       "      <td>0.0</td>\n",
       "      <td>2</td>\n",
       "      <td>0.0</td>\n",
       "      <td>0</td>\n",
       "      <td>0</td>\n",
       "    </tr>\n",
       "    <tr>\n",
       "      <th>225956</th>\n",
       "      <td>2023</td>\n",
       "      <td>Narendra Modi Stadium, Ahmedabad</td>\n",
       "      <td>1</td>\n",
       "      <td>1.0</td>\n",
       "      <td>0.0</td>\n",
       "      <td>4.0</td>\n",
       "      <td>0.0</td>\n",
       "      <td>RD Gaikwad</td>\n",
       "      <td>0.0</td>\n",
       "      <td>1</td>\n",
       "      <td>Mohammed Shami</td>\n",
       "      <td>0.0</td>\n",
       "      <td>3</td>\n",
       "      <td>0.0</td>\n",
       "      <td>1</td>\n",
       "      <td>1</td>\n",
       "    </tr>\n",
       "    <tr>\n",
       "      <th>225957</th>\n",
       "      <td>2023</td>\n",
       "      <td>Narendra Modi Stadium, Ahmedabad</td>\n",
       "      <td>1</td>\n",
       "      <td>2.0</td>\n",
       "      <td>0.0</td>\n",
       "      <td>5.0</td>\n",
       "      <td>0.0</td>\n",
       "      <td>DP Conway</td>\n",
       "      <td>0.0</td>\n",
       "      <td>2</td>\n",
       "      <td>Mohammed Shami</td>\n",
       "      <td>1.0</td>\n",
       "      <td>4</td>\n",
       "      <td>0.0</td>\n",
       "      <td>0</td>\n",
       "      <td>0</td>\n",
       "    </tr>\n",
       "    <tr>\n",
       "      <th>...</th>\n",
       "      <td>...</td>\n",
       "      <td>...</td>\n",
       "      <td>...</td>\n",
       "      <td>...</td>\n",
       "      <td>...</td>\n",
       "      <td>...</td>\n",
       "      <td>...</td>\n",
       "      <td>...</td>\n",
       "      <td>...</td>\n",
       "      <td>...</td>\n",
       "      <td>...</td>\n",
       "      <td>...</td>\n",
       "      <td>...</td>\n",
       "      <td>...</td>\n",
       "      <td>...</td>\n",
       "      <td>...</td>\n",
       "    </tr>\n",
       "    <tr>\n",
       "      <th>243810</th>\n",
       "      <td>2023</td>\n",
       "      <td>Narendra Modi Stadium, Ahmedabad</td>\n",
       "      <td>2</td>\n",
       "      <td>158.0</td>\n",
       "      <td>5.0</td>\n",
       "      <td>86.0</td>\n",
       "      <td>14.0</td>\n",
       "      <td>S Dube</td>\n",
       "      <td>30.0</td>\n",
       "      <td>19</td>\n",
       "      <td>MM Sharma</td>\n",
       "      <td>23.0</td>\n",
       "      <td>13</td>\n",
       "      <td>3.0</td>\n",
       "      <td>1</td>\n",
       "      <td>1</td>\n",
       "    </tr>\n",
       "    <tr>\n",
       "      <th>243811</th>\n",
       "      <td>2023</td>\n",
       "      <td>Narendra Modi Stadium, Ahmedabad</td>\n",
       "      <td>2</td>\n",
       "      <td>159.0</td>\n",
       "      <td>5.0</td>\n",
       "      <td>87.0</td>\n",
       "      <td>14.0</td>\n",
       "      <td>RA Jadeja</td>\n",
       "      <td>4.0</td>\n",
       "      <td>3</td>\n",
       "      <td>MM Sharma</td>\n",
       "      <td>24.0</td>\n",
       "      <td>14</td>\n",
       "      <td>3.0</td>\n",
       "      <td>1</td>\n",
       "      <td>1</td>\n",
       "    </tr>\n",
       "    <tr>\n",
       "      <th>243812</th>\n",
       "      <td>2023</td>\n",
       "      <td>Narendra Modi Stadium, Ahmedabad</td>\n",
       "      <td>2</td>\n",
       "      <td>160.0</td>\n",
       "      <td>5.0</td>\n",
       "      <td>88.0</td>\n",
       "      <td>14.0</td>\n",
       "      <td>S Dube</td>\n",
       "      <td>31.0</td>\n",
       "      <td>20</td>\n",
       "      <td>MM Sharma</td>\n",
       "      <td>25.0</td>\n",
       "      <td>15</td>\n",
       "      <td>3.0</td>\n",
       "      <td>1</td>\n",
       "      <td>1</td>\n",
       "    </tr>\n",
       "    <tr>\n",
       "      <th>243813</th>\n",
       "      <td>2023</td>\n",
       "      <td>Narendra Modi Stadium, Ahmedabad</td>\n",
       "      <td>2</td>\n",
       "      <td>161.0</td>\n",
       "      <td>5.0</td>\n",
       "      <td>89.0</td>\n",
       "      <td>14.0</td>\n",
       "      <td>RA Jadeja</td>\n",
       "      <td>5.0</td>\n",
       "      <td>4</td>\n",
       "      <td>MM Sharma</td>\n",
       "      <td>26.0</td>\n",
       "      <td>16</td>\n",
       "      <td>3.0</td>\n",
       "      <td>6</td>\n",
       "      <td>6</td>\n",
       "    </tr>\n",
       "    <tr>\n",
       "      <th>243814</th>\n",
       "      <td>2023</td>\n",
       "      <td>Narendra Modi Stadium, Ahmedabad</td>\n",
       "      <td>2</td>\n",
       "      <td>167.0</td>\n",
       "      <td>5.0</td>\n",
       "      <td>90.0</td>\n",
       "      <td>15.0</td>\n",
       "      <td>RA Jadeja</td>\n",
       "      <td>11.0</td>\n",
       "      <td>5</td>\n",
       "      <td>MM Sharma</td>\n",
       "      <td>32.0</td>\n",
       "      <td>17</td>\n",
       "      <td>3.0</td>\n",
       "      <td>4</td>\n",
       "      <td>4</td>\n",
       "    </tr>\n",
       "  </tbody>\n",
       "</table>\n",
       "<p>17861 rows × 16 columns</p>\n",
       "</div>"
      ],
      "text/plain": [
       "        season                             venue  innings  innings_total  \\\n",
       "225953    2023  Narendra Modi Stadium, Ahmedabad        1            0.0   \n",
       "225954    2023  Narendra Modi Stadium, Ahmedabad        1            0.0   \n",
       "225955    2023  Narendra Modi Stadium, Ahmedabad        1            1.0   \n",
       "225956    2023  Narendra Modi Stadium, Ahmedabad        1            1.0   \n",
       "225957    2023  Narendra Modi Stadium, Ahmedabad        1            2.0   \n",
       "...        ...                               ...      ...            ...   \n",
       "243810    2023  Narendra Modi Stadium, Ahmedabad        2          158.0   \n",
       "243811    2023  Narendra Modi Stadium, Ahmedabad        2          159.0   \n",
       "243812    2023  Narendra Modi Stadium, Ahmedabad        2          160.0   \n",
       "243813    2023  Narendra Modi Stadium, Ahmedabad        2          161.0   \n",
       "243814    2023  Narendra Modi Stadium, Ahmedabad        2          167.0   \n",
       "\n",
       "        innings_wickets  ball  over     striker  striker_runs  striker_balls  \\\n",
       "225953              0.0   1.0   0.0   DP Conway           0.0              0   \n",
       "225954              0.0   2.0   0.0   DP Conway           0.0              1   \n",
       "225955              0.0   3.0   0.0  RD Gaikwad           0.0              0   \n",
       "225956              0.0   4.0   0.0  RD Gaikwad           0.0              1   \n",
       "225957              0.0   5.0   0.0   DP Conway           0.0              2   \n",
       "...                 ...   ...   ...         ...           ...            ...   \n",
       "243810              5.0  86.0  14.0      S Dube          30.0             19   \n",
       "243811              5.0  87.0  14.0   RA Jadeja           4.0              3   \n",
       "243812              5.0  88.0  14.0      S Dube          31.0             20   \n",
       "243813              5.0  89.0  14.0   RA Jadeja           5.0              4   \n",
       "243814              5.0  90.0  15.0   RA Jadeja          11.0              5   \n",
       "\n",
       "                bowler  bowler_runs  bowler_balls  bowler_wickets  \\\n",
       "225953  Mohammed Shami          0.0             0             0.0   \n",
       "225954  Mohammed Shami          0.0             1             0.0   \n",
       "225955  Mohammed Shami          0.0             2             0.0   \n",
       "225956  Mohammed Shami          0.0             3             0.0   \n",
       "225957  Mohammed Shami          1.0             4             0.0   \n",
       "...                ...          ...           ...             ...   \n",
       "243810       MM Sharma         23.0            13             3.0   \n",
       "243811       MM Sharma         24.0            14             3.0   \n",
       "243812       MM Sharma         25.0            15             3.0   \n",
       "243813       MM Sharma         26.0            16             3.0   \n",
       "243814       MM Sharma         32.0            17             3.0   \n",
       "\n",
       "        runs_off_bat  outcome  \n",
       "225953             0        0  \n",
       "225954             0        0  \n",
       "225955             0        0  \n",
       "225956             1        1  \n",
       "225957             0        0  \n",
       "...              ...      ...  \n",
       "243810             1        1  \n",
       "243811             1        1  \n",
       "243812             1        1  \n",
       "243813             6        6  \n",
       "243814             4        4  \n",
       "\n",
       "[17861 rows x 16 columns]"
      ]
     },
     "execution_count": 6,
     "metadata": {},
     "output_type": "execute_result"
    }
   ],
   "source": [
    "df"
   ]
  },
  {
   "cell_type": "code",
   "execution_count": 7,
   "metadata": {},
   "outputs": [],
   "source": [
    "model = trainer.train()"
   ]
  },
  {
   "cell_type": "code",
   "execution_count": 8,
   "metadata": {},
   "outputs": [
    {
     "name": "stderr",
     "output_type": "stream",
     "text": [
      "C:\\Users\\Ashwin\\AppData\\Local\\Temp\\ipykernel_19224\\3710995195.py:11: SettingWithCopyWarning: \n",
      "A value is trying to be set on a copy of a slice from a DataFrame.\n",
      "Try using .loc[row_indexer,col_indexer] = value instead\n",
      "\n",
      "See the caveats in the documentation: https://pandas.pydata.org/pandas-docs/stable/user_guide/indexing.html#returning-a-view-versus-a-copy\n",
      "  df[\"preds\"] = xR\n"
     ]
    }
   ],
   "source": [
    "X = [\"innings_total\",\n",
    "             \"innings_wickets\",\n",
    "             \"over\", \n",
    "             \"striker_runs\", \n",
    "             \"striker_balls\",\n",
    "             \"bowler_runs\",\n",
    "             \"bowler_balls\",\n",
    "             \"bowler_wickets\"]\n",
    "\n",
    "xR = (model.predict_proba(df[X]) * np.array([[0, 1, 2, 3, 4, 6, 0]])).sum(axis=1)\n",
    "df[\"preds\"] = xR"
   ]
  },
  {
   "cell_type": "code",
   "execution_count": 9,
   "metadata": {},
   "outputs": [
    {
     "name": "stderr",
     "output_type": "stream",
     "text": [
      "C:\\Users\\Ashwin\\AppData\\Local\\Packages\\PythonSoftwareFoundation.Python.3.11_qbz5n2kfra8p0\\LocalCache\\local-packages\\Python311\\site-packages\\seaborn\\_oldcore.py:1498: FutureWarning: is_categorical_dtype is deprecated and will be removed in a future version. Use isinstance(dtype, CategoricalDtype) instead\n",
      "  if pd.api.types.is_categorical_dtype(vector):\n",
      "C:\\Users\\Ashwin\\AppData\\Local\\Packages\\PythonSoftwareFoundation.Python.3.11_qbz5n2kfra8p0\\LocalCache\\local-packages\\Python311\\site-packages\\seaborn\\_oldcore.py:1498: FutureWarning: is_categorical_dtype is deprecated and will be removed in a future version. Use isinstance(dtype, CategoricalDtype) instead\n",
      "  if pd.api.types.is_categorical_dtype(vector):\n",
      "C:\\Users\\Ashwin\\AppData\\Local\\Packages\\PythonSoftwareFoundation.Python.3.11_qbz5n2kfra8p0\\LocalCache\\local-packages\\Python311\\site-packages\\seaborn\\_oldcore.py:1498: FutureWarning: is_categorical_dtype is deprecated and will be removed in a future version. Use isinstance(dtype, CategoricalDtype) instead\n",
      "  if pd.api.types.is_categorical_dtype(vector):\n",
      "C:\\Users\\Ashwin\\AppData\\Local\\Packages\\PythonSoftwareFoundation.Python.3.11_qbz5n2kfra8p0\\LocalCache\\local-packages\\Python311\\site-packages\\seaborn\\_oldcore.py:1498: FutureWarning: is_categorical_dtype is deprecated and will be removed in a future version. Use isinstance(dtype, CategoricalDtype) instead\n",
      "  if pd.api.types.is_categorical_dtype(vector):\n"
     ]
    },
    {
     "data": {
      "text/plain": [
       "<Axes: xlabel='ball', ylabel='runs_off_bat'>"
      ]
     },
     "execution_count": 9,
     "metadata": {},
     "output_type": "execute_result"
    },
    {
     "data": {
      "image/png": "[encoded data removed]",
      "text/plain": [
       "<Figure size 640x480 with 1 Axes>"
      ]
     },
     "metadata": {},
     "output_type": "display_data"
    }
   ],
   "source": [
    "ball_group = df.groupby(\"ball\", as_index=False).agg({ \"runs_off_bat\": \"mean\", \"preds\": \"mean\" })\n",
    "sns.scatterplot(data=ball_group, x=\"ball\", y=\"runs_off_bat\")\n",
    "sns.scatterplot(data=ball_group, x=\"ball\", y=\"preds\")"
   ]
  },
  {
   "cell_type": "code",
   "execution_count": 10,
   "metadata": {},
   "outputs": [
    {
     "name": "stderr",
     "output_type": "stream",
     "text": [
      "C:\\Users\\Ashwin\\AppData\\Local\\Packages\\PythonSoftwareFoundation.Python.3.11_qbz5n2kfra8p0\\LocalCache\\local-packages\\Python311\\site-packages\\seaborn\\_oldcore.py:1498: FutureWarning: is_categorical_dtype is deprecated and will be removed in a future version. Use isinstance(dtype, CategoricalDtype) instead\n",
      "  if pd.api.types.is_categorical_dtype(vector):\n",
      "C:\\Users\\Ashwin\\AppData\\Local\\Packages\\PythonSoftwareFoundation.Python.3.11_qbz5n2kfra8p0\\LocalCache\\local-packages\\Python311\\site-packages\\seaborn\\_oldcore.py:1498: FutureWarning: is_categorical_dtype is deprecated and will be removed in a future version. Use isinstance(dtype, CategoricalDtype) instead\n",
      "  if pd.api.types.is_categorical_dtype(vector):\n",
      "C:\\Users\\Ashwin\\AppData\\Local\\Packages\\PythonSoftwareFoundation.Python.3.11_qbz5n2kfra8p0\\LocalCache\\local-packages\\Python311\\site-packages\\seaborn\\_oldcore.py:1498: FutureWarning: is_categorical_dtype is deprecated and will be removed in a future version. Use isinstance(dtype, CategoricalDtype) instead\n",
      "  if pd.api.types.is_categorical_dtype(vector):\n",
      "C:\\Users\\Ashwin\\AppData\\Local\\Packages\\PythonSoftwareFoundation.Python.3.11_qbz5n2kfra8p0\\LocalCache\\local-packages\\Python311\\site-packages\\seaborn\\_oldcore.py:1498: FutureWarning: is_categorical_dtype is deprecated and will be removed in a future version. Use isinstance(dtype, CategoricalDtype) instead\n",
      "  if pd.api.types.is_categorical_dtype(vector):\n"
     ]
    },
    {
     "data": {
      "text/plain": [
       "<Axes: xlabel='striker_runs', ylabel='runs_off_bat'>"
      ]
     },
     "execution_count": 10,
     "metadata": {},
     "output_type": "execute_result"
    },
    {
     "data": {
      "image/png": "[encoded data removed]",
      "text/plain": [
       "<Figure size 640x480 with 1 Axes>"
      ]
     },
     "metadata": {},
     "output_type": "display_data"
    }
   ],
   "source": [
    "runs_group = df.groupby(\"striker_runs\", as_index=False).agg({ \"runs_off_bat\": \"mean\", \"preds\": \"mean\" })\n",
    "sns.scatterplot(data=runs_group, x=\"striker_runs\", y=\"runs_off_bat\")\n",
    "sns.scatterplot(data=runs_group, x=\"striker_runs\", y=\"preds\")"
   ]
  },
  {
   "cell_type": "code",
   "execution_count": 11,
   "metadata": {},
   "outputs": [
    {
     "name": "stderr",
     "output_type": "stream",
     "text": [
      "C:\\Users\\Ashwin\\AppData\\Local\\Packages\\PythonSoftwareFoundation.Python.3.11_qbz5n2kfra8p0\\LocalCache\\local-packages\\Python311\\site-packages\\seaborn\\_oldcore.py:1498: FutureWarning: is_categorical_dtype is deprecated and will be removed in a future version. Use isinstance(dtype, CategoricalDtype) instead\n",
      "  if pd.api.types.is_categorical_dtype(vector):\n",
      "C:\\Users\\Ashwin\\AppData\\Local\\Packages\\PythonSoftwareFoundation.Python.3.11_qbz5n2kfra8p0\\LocalCache\\local-packages\\Python311\\site-packages\\seaborn\\_oldcore.py:1498: FutureWarning: is_categorical_dtype is deprecated and will be removed in a future version. Use isinstance(dtype, CategoricalDtype) instead\n",
      "  if pd.api.types.is_categorical_dtype(vector):\n",
      "C:\\Users\\Ashwin\\AppData\\Local\\Packages\\PythonSoftwareFoundation.Python.3.11_qbz5n2kfra8p0\\LocalCache\\local-packages\\Python311\\site-packages\\seaborn\\_oldcore.py:1498: FutureWarning: is_categorical_dtype is deprecated and will be removed in a future version. Use isinstance(dtype, CategoricalDtype) instead\n",
      "  if pd.api.types.is_categorical_dtype(vector):\n",
      "C:\\Users\\Ashwin\\AppData\\Local\\Packages\\PythonSoftwareFoundation.Python.3.11_qbz5n2kfra8p0\\LocalCache\\local-packages\\Python311\\site-packages\\seaborn\\_oldcore.py:1498: FutureWarning: is_categorical_dtype is deprecated and will be removed in a future version. Use isinstance(dtype, CategoricalDtype) instead\n",
      "  if pd.api.types.is_categorical_dtype(vector):\n"
     ]
    },
    {
     "data": {
      "text/plain": [
       "<Axes: xlabel='innings_total', ylabel='runs_off_bat'>"
      ]
     },
     "execution_count": 11,
     "metadata": {},
     "output_type": "execute_result"
    },
    {
     "data": {
      "image/png": "[encoded data removed]",
      "text/plain": [
       "<Figure size 640x480 with 1 Axes>"
      ]
     },
     "metadata": {},
     "output_type": "display_data"
    }
   ],
   "source": [
    "total_group = df.groupby(\"innings_total\", as_index=False).agg({ \"runs_off_bat\": \"mean\", \"preds\": \"mean\" })\n",
    "sns.scatterplot(data=total_group, x=\"innings_total\", y=\"runs_off_bat\")\n",
    "sns.scatterplot(data=total_group, x=\"innings_total\", y=\"preds\")"
   ]
  },
  {
   "cell_type": "code",
   "execution_count": 12,
   "metadata": {},
   "outputs": [],
   "source": [
    "import pickle\n",
    "file = open(\"model.pkl\", \"wb\")\n",
    "pickle.dump(model, file)"
   ]
  }
 ],
 "metadata": {
  "kernelspec": {
   "display_name": "Python 3",
   "language": "python",
   "name": "python3"
  },
  "language_info": {
   "codemirror_mode": {
    "name": "ipython",
    "version": 3
   },
   "file_extension": ".py",
   "mimetype": "text/x-python",
   "name": "python",
   "nbconvert_exporter": "python",
   "pygments_lexer": "ipython3",
   "version": "3.11.7"
  }
 },
 "nbformat": 4,
 "nbformat_minor": 2
}
