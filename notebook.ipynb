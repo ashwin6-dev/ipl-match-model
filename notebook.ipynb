{
 "cells": [
  {
   "cell_type": "code",
   "execution_count": null,
   "metadata": {},
   "outputs": [],
   "source": [
    "!pip install scikit-learn"
   ]
  },
  {
   "cell_type": "code",
   "execution_count": null,
   "metadata": {},
   "outputs": [],
   "source": [
    "import pandas as pd\n",
    "import numpy as np\n",
    "import matplotlib.pyplot as plt\n",
    "import seaborn as sns\n",
    "from sklearn.svm import SVR\n",
    "from sklearn.pipeline import make_pipeline\n",
    "from sklearn.preprocessing import StandardScaler\n",
    "from sklearn.neural_network import MLPRegressor\n",
    "from sklearn.neural_network import MLPClassifier\n",
    "from sklearn.naive_bayes import GaussianNB\n",
    "from sklearn.ensemble import AdaBoostClassifier\n",
    "from sklearn.ensemble import RandomForestClassifier\n",
    "from sklearn.model_selection import train_test_split"
   ]
  },
  {
   "cell_type": "code",
   "execution_count": null,
   "metadata": {},
   "outputs": [],
   "source": [
    "class DatasetProcessor:\n",
    "    def __init__(self, name):\n",
    "        self.df = pd.read_csv(name).fillna(0)\n",
    "\n",
    "    def calculate_innings_stats(self):\n",
    "        self.df[\"innings_total\"] = self.df.groupby([\"match_id\", \"innings\"])[\"runs_off_bat\"].transform(lambda x : x.shift().fillna(0).cumsum()) + self.df.groupby([\"match_id\", \"innings\"])[\"extras\"].transform(lambda x : x.shift().fillna(0).cumsum())\n",
    "        self.df[\"wicket\"] = (self.df[\"wicket_type\"] != 0).astype(int)\n",
    "        self.df[\"innings_wickets\"] = self.df.groupby([\"match_id\", \"innings\"])[\"wicket\"].transform(lambda x : x.shift().fillna(0).cumsum())\n",
    "        \n",
    "        self.df[\"ball\"] = self.df[\"ball\"].astype(int) * 6 + (self.df[\"ball\"] - self.df[\"ball\"].astype(int)) * 10\n",
    "        self.df[\"over\"] = self.df[\"ball\"] // 6\n",
    "        self.df[\"outcome\"] = self.df.apply(lambda ball : 7 if ball[\"wicket\"] == 1 else ball[\"runs_off_bat\"], axis=1)\n",
    "\n",
    "    def calculate_striker_stats(self):\n",
    "        self.df[\"striker_runs\"] = self.df.groupby([\"match_id\", \"striker\"])[\"runs_off_bat\"].transform(lambda x : x.shift().fillna(0).cumsum())\n",
    "        self.df[\"striker_balls\"] = self.df.groupby([\"match_id\", \"striker\"])[\"runs_off_bat\"].transform(\"cumcount\")\n",
    "\n",
    "    def calculate_bowler_stats(self):\n",
    "        self.df[\"bowler_runs\"] = self.df.groupby([\"match_id\", \"bowler\"])[\"runs_off_bat\"].transform(lambda x : x.shift().fillna(0).cumsum())\n",
    "        self.df[\"bowler_balls\"] = self.df.groupby([\"match_id\", \"bowler\"])[\"runs_off_bat\"].transform(\"cumcount\")\n",
    "        self.df[\"bowler_wickets\"] = self.df.groupby([\"match_id\", \"bowler\"])[\"wicket\"].transform(lambda x : x.shift().fillna(0).cumsum())\n",
    "\n",
    "    def select_season(self, season):\n",
    "        self.df = self.df[self.df.season == season]\n",
    "\n",
    "    def process(self):\n",
    "        self.select_season(2023)\n",
    "        self.calculate_innings_stats()\n",
    "        self.calculate_striker_stats()\n",
    "        self.calculate_bowler_stats()\n",
    "        self.df = self.df[self.df.outcome != 5]\n",
    "\n",
    "        return self.df[[\"season\", \n",
    "                        \"venue\", \n",
    "                        \"innings\", \n",
    "                        \"innings_total\",\n",
    "                        \"innings_wickets\",\n",
    "                        \"ball\", \n",
    "                        \"over\",\n",
    "                        \"striker\",\n",
    "                        \"striker_runs\", \n",
    "                        \"striker_balls\",\n",
    "                        \"bowler\",\n",
    "                        \"bowler_runs\",\n",
    "                        \"bowler_balls\",\n",
    "                        \"bowler_wickets\", \n",
    "                        \"runs_off_bat\",\n",
    "                        \"outcome\"]]"
   ]
  },
  {
   "cell_type": "code",
   "execution_count": null,
   "metadata": {},
   "outputs": [],
   "source": [
    "class ExpectedModel:\n",
    "    def __init__(self, dataset):\n",
    "        self.dataset = dataset\n",
    "\n",
    "    def train(self):\n",
    "        X = [\"innings_total\",\n",
    "             \"innings_wickets\",\n",
    "             \"over\", \n",
    "             \"striker_runs\", \n",
    "             \"striker_balls\",\n",
    "             \"bowler_runs\",\n",
    "             \"bowler_balls\",\n",
    "             \"bowler_wickets\"]\n",
    "        \n",
    "        Y = \"outcome\"\n",
    "\n",
    "        pipeline = make_pipeline(StandardScaler(),\n",
    "                                 MLPClassifier())\n",
    "        \n",
    "        dummies = self.dataset[Y]\n",
    "        X_train, X_test, y_train, y_test = train_test_split(self.dataset[X], dummies, test_size=0.3)\n",
    "        pipeline.fit(X_train, y_train)\n",
    "\n",
    "        return pipeline"
   ]
  },
  {
   "cell_type": "code",
   "execution_count": null,
   "metadata": {},
   "outputs": [],
   "source": [
    "p = DatasetProcessor(\"IPL_ball_by_ball_updated.csv\")\n",
    "df = p.process()\n",
    "trainer = ExpectedModel(df)"
   ]
  },
  {
   "cell_type": "code",
   "execution_count": null,
   "metadata": {},
   "outputs": [],
   "source": [
    "df"
   ]
  },
  {
   "cell_type": "code",
   "execution_count": null,
   "metadata": {},
   "outputs": [],
   "source": [
    "model = trainer.train()"
   ]
  },
  {
   "cell_type": "code",
   "execution_count": null,
   "metadata": {},
   "outputs": [],
   "source": [
    "X = [\"innings_total\",\n",
    "             \"innings_wickets\",\n",
    "             \"over\", \n",
    "             \"striker_runs\", \n",
    "             \"striker_balls\",\n",
    "             \"bowler_runs\",\n",
    "             \"bowler_balls\",\n",
    "             \"bowler_wickets\"]\n",
    "\n",
    "xR = (model.predict_proba(df[X]) * np.array([[0, 1, 2, 3, 4, 6, 0]])).sum(axis=1)\n",
    "df[\"preds\"] = xR"
   ]
  },
  {
   "cell_type": "code",
   "execution_count": null,
   "metadata": {},
   "outputs": [],
   "source": [
    "ball_group = df.groupby(\"ball\", as_index=False).agg({ \"runs_off_bat\": \"mean\", \"preds\": \"mean\" })\n",
    "sns.scatterplot(data=ball_group, x=\"ball\", y=\"runs_off_bat\")\n",
    "sns.scatterplot(data=ball_group, x=\"ball\", y=\"preds\")"
   ]
  },
  {
   "cell_type": "code",
   "execution_count": null,
   "metadata": {},
   "outputs": [],
   "source": [
    "runs_group = df.groupby(\"striker_runs\", as_index=False).agg({ \"runs_off_bat\": \"mean\", \"preds\": \"mean\" })\n",
    "sns.scatterplot(data=runs_group, x=\"striker_runs\", y=\"runs_off_bat\")\n",
    "sns.scatterplot(data=runs_group, x=\"striker_runs\", y=\"preds\")"
   ]
  },
  {
   "cell_type": "code",
   "execution_count": null,
   "metadata": {},
   "outputs": [],
   "source": [
    "total_group = df.groupby(\"innings_total\", as_index=False).agg({ \"runs_off_bat\": \"mean\", \"preds\": \"mean\" })\n",
    "sns.scatterplot(data=total_group, x=\"innings_total\", y=\"runs_off_bat\")\n",
    "sns.scatterplot(data=total_group, x=\"innings_total\", y=\"preds\")"
   ]
  },
  {
   "cell_type": "code",
   "execution_count": null,
   "metadata": {},
   "outputs": [],
   "source": [
    "import pickle\n",
    "file = open(\"model.pkl\", \"wb\")\n",
    "pickle.dump(model, file)"
   ]
  }
 ],
 "metadata": {
  "kernelspec": {
   "display_name": "Python 3",
   "language": "python",
   "name": "python3"
  },
  "language_info": {
   "codemirror_mode": {
    "name": "ipython",
    "version": 3
   },
   "file_extension": ".py",
   "mimetype": "text/x-python",
   "name": "python",
   "nbconvert_exporter": "python",
   "pygments_lexer": "ipython3",
   "version": "3.11.7"
  }
 },
 "nbformat": 4,
 "nbformat_minor": 2
}
